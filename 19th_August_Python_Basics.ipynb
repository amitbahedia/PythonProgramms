{
 "cells": [
  {
   "cell_type": "code",
   "execution_count": null,
   "id": "a8c5199c-c2fd-40dd-a0c6-7977ee3fcb64",
   "metadata": {},
   "outputs": [],
   "source": [
    "''' Declare two variables, `x` and `y`, and assign them integer values. Swap the\n",
    "values of these variables without using any temporary variable '''"
   ]
  },
  {
   "cell_type": "code",
   "execution_count": 13,
   "id": "0d0ed43b-200c-4e72-8f04-335beeebc702",
   "metadata": {},
   "outputs": [
    {
     "name": "stdout",
     "output_type": "stream",
     "text": [
      "the new value of x is  15\n",
      "the new value of x is  10\n"
     ]
    }
   ],
   "source": [
    "x = 10\n",
    "y = 15\n",
    "\n",
    "x,y = y,x\n",
    "\n",
    "print(\"the new value of x is \", x)\n",
    "print(\"the new value of x is \", y)"
   ]
  },
  {
   "cell_type": "code",
   "execution_count": null,
   "id": "2c8c302f-850d-427d-8817-d19aed773b7c",
   "metadata": {},
   "outputs": [],
   "source": [
    "'''\n",
    "Create a program that calculates the area of a rectangle. Take the length and\n",
    "width as inputs from the user and store them in variables. Calculate and\n",
    "display the area\n",
    "\n",
    "\n",
    "'''"
   ]
  },
  {
   "cell_type": "code",
   "execution_count": 34,
   "id": "b4d03b86-6ebc-43ad-aebf-50c685bdc67b",
   "metadata": {},
   "outputs": [
    {
     "name": "stdin",
     "output_type": "stream",
     "text": [
      "Enter the value of length 34\n",
      "Enter the value of width 45\n"
     ]
    },
    {
     "name": "stdout",
     "output_type": "stream",
     "text": [
      "The Area of Rectangle is  1530\n"
     ]
    }
   ],
   "source": [
    "Length = int(input(\"Enter the value of length\"))\n",
    "Width = int(input(\"Enter the value of width\"))\n",
    "Area  = Length * Width\n",
    "print (\"The Area of Rectangle is \" , Area)"
   ]
  },
  {
   "cell_type": "code",
   "execution_count": null,
   "id": "2e3091ff-dfed-4486-a3b5-2c9e1b9cae2f",
   "metadata": {},
   "outputs": [],
   "source": [
    "\"\"\"\n",
    "Write a Python program that converts temperatures from Celsius to\n",
    "Fahrenheit. Take the temperature in Celsius as input, store it in a variable,\n",
    "convert it to Fahrenheit, and display the result.\n",
    "\n",
    "\"\"\"\n"
   ]
  },
  {
   "cell_type": "code",
   "execution_count": 35,
   "id": "02426b01-0033-44a4-85d6-2492d956e17d",
   "metadata": {},
   "outputs": [
    {
     "name": "stdin",
     "output_type": "stream",
     "text": [
      "Enter the value in Celcius 4\n"
     ]
    },
    {
     "name": "stdout",
     "output_type": "stream",
     "text": [
      "The value in Fahrenheit is 39.2\n"
     ]
    }
   ],
   "source": [
    "Temp = int(input(\"Enter the value in Celcius\"))\n",
    "Fahrenheit = (Temp * (9/5)) + 32\n",
    "print(\"The value in Fahrenheit is\",  Fahrenheit)\n",
    "                              "
   ]
  },
  {
   "cell_type": "code",
   "execution_count": null,
   "id": "71103741-fc65-4d74-b28a-908f2044bdd4",
   "metadata": {},
   "outputs": [],
   "source": [
    "#String Based questions"
   ]
  },
  {
   "cell_type": "code",
   "execution_count": null,
   "id": "e101c06d-da5e-46b6-b162-fba5a87b0163",
   "metadata": {},
   "outputs": [],
   "source": [
    "\"\"\"\n",
    "Write a Python program that takes a string as input and prints the length of\n",
    "the string.\n",
    "\n",
    "\"\"\""
   ]
  },
  {
   "cell_type": "code",
   "execution_count": 36,
   "id": "710e76c4-551e-496b-a707-319dca6d626c",
   "metadata": {},
   "outputs": [
    {
     "name": "stdin",
     "output_type": "stream",
     "text": [
      "Enter the new string i h b\n"
     ]
    },
    {
     "name": "stdout",
     "output_type": "stream",
     "text": [
      "The length of the string is 5\n"
     ]
    }
   ],
   "source": [
    "String1 = input(\"Enter the new string\")\n",
    "Length = len(String1)\n",
    "print(\"The length of the string is\", Length)"
   ]
  },
  {
   "cell_type": "code",
   "execution_count": null,
   "id": "2e85b3ec-5c96-40a7-a1b7-457120be2415",
   "metadata": {},
   "outputs": [],
   "source": [
    "\"\"\"\n",
    "Create a program that takes a sentence from the user and counts the number\n",
    "of vowels (a, e, i, o, u) in the string.\n",
    "\n",
    "\"\"\""
   ]
  },
  {
   "cell_type": "code",
   "execution_count": 33,
   "id": "2c5fa93e-902f-44d3-b087-894f3ec80b1b",
   "metadata": {},
   "outputs": [
    {
     "name": "stdin",
     "output_type": "stream",
     "text": [
      "Enter the sentence aeiou\n"
     ]
    },
    {
     "name": "stdout",
     "output_type": "stream",
     "text": [
      "the sentence is aeiou\n",
      "The total numer of vowels are 5\n"
     ]
    }
   ],
   "source": [
    "Sen = input(\"Enter the sentence\")\n",
    "print(\"the sentence is\", Sen)\n",
    "Vowel_Count = Sen.count(\"A\") + Sen.count(\"a\") + Sen.count(\"E\") + Sen.count(\"e\") + Sen.count(\"I\") + Sen.count(\"i\") + Sen.count(\"O\") + Sen.count(\"o\") + Sen.count(\"u\") + Sen.count(\"U\")\n",
    "print(\"The total numer of vowels are\" , Vowel_Count)\n",
    "\n",
    "\n",
    "\n"
   ]
  },
  {
   "cell_type": "code",
   "execution_count": null,
   "id": "3b4f773a-7afd-4d18-bd9c-c13ba49d014e",
   "metadata": {},
   "outputs": [],
   "source": [
    "\"\"\"\n",
    "\n",
    "Given a string, reverse the order of characters using string slicing and print\n",
    "the reversed string.\n",
    "\n",
    "\"\"\"\n"
   ]
  },
  {
   "cell_type": "code",
   "execution_count": 37,
   "id": "8c17b44f-0fb9-4b57-8319-e4e5f0a53ea9",
   "metadata": {},
   "outputs": [
    {
     "name": "stdout",
     "output_type": "stream",
     "text": [
      "the reverse string is  taerg ma I\n"
     ]
    }
   ],
   "source": [
    "str2 = \"I am great\"\n",
    "reverse = str2[::-1]\n",
    "print(\"the reverse string is \", reverse)"
   ]
  },
  {
   "cell_type": "code",
   "execution_count": null,
   "id": "cd82c57a-e488-4171-a6a8-4ed51c29f6d9",
   "metadata": {},
   "outputs": [],
   "source": [
    "\"\"\"\n",
    "\n",
    "Write a program that takes a string as input and checks if it is a palindrome\n",
    "(reads the same forwards and backwards)\n",
    "\n",
    "\"\"\""
   ]
  },
  {
   "cell_type": "code",
   "execution_count": 38,
   "id": "8a6de228-7d35-4af7-8c05-55a361d435b9",
   "metadata": {},
   "outputs": [
    {
     "name": "stdin",
     "output_type": "stream",
     "text": [
      "enter the string radar\n"
     ]
    },
    {
     "name": "stdout",
     "output_type": "stream",
     "text": [
      "It is palindrome string\n"
     ]
    }
   ],
   "source": [
    "str3 = input(\"enter the string\")\n",
    "reverse = str3[::-1]\n",
    "if str3 == reverse:\n",
    "    print(\"It is palindrome string\")\n",
    "else:\n",
    "    print(\"it is not palindrome string\")"
   ]
  },
  {
   "cell_type": "code",
   "execution_count": 7,
   "id": "4302af5f-d71d-4e97-a180-b39389ffae78",
   "metadata": {},
   "outputs": [
    {
     "data": {
      "text/plain": [
       "'\\n\\nCreate a program that takes a string as input and removes all the spaces from\\nit. Print the modified string without spaces.\\n'"
      ]
     },
     "execution_count": 7,
     "metadata": {},
     "output_type": "execute_result"
    }
   ],
   "source": [
    "'''\n",
    "\n",
    "Create a program that takes a string as input and removes all the spaces from\n",
    "it. Print the modified string without spaces.\\\n",
    "\n",
    "'''"
   ]
  },
  {
   "cell_type": "code",
   "execution_count": 39,
   "id": "7ea02743-839e-4793-82f8-76d451078fc0",
   "metadata": {},
   "outputs": [
    {
     "name": "stdin",
     "output_type": "stream",
     "text": [
      "enter the string I  as g\n"
     ]
    },
    {
     "name": "stdout",
     "output_type": "stream",
     "text": [
      "the new string without spaces is  Iasg\n"
     ]
    }
   ],
   "source": [
    "str4 = input(\"enter the string\")\n",
    "New_String = str4.replace(\" \", \"\")\n",
    "print(\"the new string without spaces is \",  New_String)\n"
   ]
  },
  {
   "cell_type": "code",
   "execution_count": null,
   "id": "4b117c87-62c8-49d9-af16-47fe12728827",
   "metadata": {},
   "outputs": [],
   "source": []
  }
 ],
 "metadata": {
  "kernelspec": {
   "display_name": "Python 3 (ipykernel)",
   "language": "python",
   "name": "python3"
  },
  "language_info": {
   "codemirror_mode": {
    "name": "ipython",
    "version": 3
   },
   "file_extension": ".py",
   "mimetype": "text/x-python",
   "name": "python",
   "nbconvert_exporter": "python",
   "pygments_lexer": "ipython3",
   "version": "3.10.8"
  }
 },
 "nbformat": 4,
 "nbformat_minor": 5
}
